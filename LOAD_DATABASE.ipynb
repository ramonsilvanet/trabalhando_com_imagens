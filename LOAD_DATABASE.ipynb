{
 "cells": [
  {
   "cell_type": "code",
   "execution_count": 1,
   "metadata": {},
   "outputs": [],
   "source": [
    "import mysql.connector\n",
    "import scipy.io\n",
    "import numpy as np\n",
    "import pandas as pd"
   ]
  },
  {
   "cell_type": "code",
   "execution_count": 2,
   "metadata": {
    "collapsed": true
   },
   "outputs": [],
   "source": [
    "annotations =  scipy.io.loadmat('annotations/attrann.mat')\n",
    "\n",
    "bboxes = annotations['attrann']['bboxes']\n",
    "images = annotations['attrann']['images']\n",
    "attributes = annotations['attrann']['attributes']\n",
    "labels = annotations['attrann']['labels']"
   ]
  },
  {
   "cell_type": "code",
   "execution_count": 3,
   "metadata": {
    "collapsed": true
   },
   "outputs": [],
   "source": [
    "def get_bound_box(idx):\n",
    "    img_bbox = bboxes[0][0][idx][0]\n",
    "            \n",
    "    xmin = img_bbox[0][0][0]\n",
    "    xmin = img_bbox[1][0][0]\n",
    "    xmin = img_bbox[2][0][0]\n",
    "    ymax = img_bbox[3][0][0]\n",
    "       \n",
    "    return xmin, xmin, xmin, ymax\n",
    "\n",
    "def get_attributes(idx):\n",
    "    i = 0\n",
    "    attr = []\n",
    "    for l in labels[0][0][idx]:\n",
    "        if(l == 1):\n",
    "            attr.append(attributes[0][0][0][i][0])\n",
    "        i = i + 1\n",
    "    return attr"
   ]
  },
  {
   "cell_type": "code",
   "execution_count": 7,
   "metadata": {
    "collapsed": true
   },
   "outputs": [],
   "source": [
    "def insert_image_attr(img_id, wnid, attr):\n",
    "    add_annotations = (\"INSERT INTO annotations \"\n",
    "               \"(img_id, wnid, attrs) \"\n",
    "               \"VALUES (%s, %s, %s)\")\n",
    "    data_annotation = (str(img_id), wnid, attr)\n",
    "    cursor.execute(add_annotations, data_annotation)\n",
    "    \n",
    "def insert_image_bound_boxes(img_id, x1, x2, y1, y2):\n",
    "    add_box = (\"INSERT INTO bound_boxes \"\n",
    "               \"(img_id, x1, x2, y1, y2) \"\n",
    "               \"VALUES (%s, %s, %s, %s, %s)\")\n",
    "    data_add_box = (str(img_id), str(x1), str(x2), str(y1), str(y2))\n",
    "    cursor.execute(add_box, data_add_box)"
   ]
  },
  {
   "cell_type": "code",
   "execution_count": 11,
   "metadata": {
    "collapsed": true
   },
   "outputs": [],
   "source": [
    "cnx = mysql.connector.connect(user='root', password='secret',\n",
    "                              host='127.0.0.1', port='33061',\n",
    "                              database='imagenet')\n",
    "\n",
    "cursor = cnx.cursor()"
   ]
  },
  {
   "cell_type": "code",
   "execution_count": 12,
   "metadata": {},
   "outputs": [
    {
     "name": "stdout",
     "output_type": "stream",
     "text": [
      " >>>  0\n",
      " >>>  100\n",
      " >>>  200\n",
      " >>>  300\n",
      " >>>  400\n",
      " >>>  500\n",
      " >>>  600\n",
      " >>>  700\n",
      " >>>  800\n",
      " >>>  900\n",
      " >>>  1000\n",
      " >>>  1100\n",
      " >>>  1200\n",
      " >>>  1300\n",
      " >>>  1400\n",
      " >>>  1500\n",
      " >>>  1600\n",
      " >>>  1700\n",
      " >>>  1800\n",
      " >>>  1900\n",
      " >>>  2000\n",
      " >>>  2100\n",
      " >>>  2200\n",
      " >>>  2300\n",
      " >>>  2400\n",
      " >>>  2500\n",
      " >>>  2600\n",
      " >>>  2700\n",
      " >>>  2800\n",
      " >>>  2900\n",
      " >>>  3000\n",
      " >>>  3100\n",
      " >>>  3200\n",
      " >>>  3300\n",
      " >>>  3400\n",
      " >>>  3500\n",
      " >>>  3600\n",
      " >>>  3700\n",
      " >>>  3800\n",
      " >>>  3900\n",
      " >>>  4000\n",
      " >>>  4100\n",
      " >>>  4200\n",
      " >>>  4300\n",
      " >>>  4400\n",
      " >>>  4500\n",
      " >>>  4600\n",
      " >>>  4700\n",
      " >>>  4800\n",
      " >>>  4900\n",
      " >>>  5000\n",
      " >>>  5100\n",
      " >>>  5200\n",
      " >>>  5300\n",
      " >>>  5400\n",
      " >>>  5500\n",
      " >>>  5600\n",
      " >>>  5700\n",
      " >>>  5800\n",
      " >>>  5900\n",
      " >>>  6000\n",
      " >>>  6100\n",
      " >>>  6200\n",
      " >>>  6300\n",
      " >>>  6400\n",
      " >>>  6500\n",
      " >>>  6600\n",
      " >>>  6700\n",
      " >>>  6800\n",
      " >>>  6900\n",
      " >>>  7000\n",
      " >>>  7100\n",
      " >>>  7200\n",
      " >>>  7300\n",
      " >>>  7400\n",
      " >>>  7500\n",
      " >>>  7600\n",
      " >>>  7700\n",
      " >>>  7800\n",
      " >>>  7900\n",
      " >>>  8000\n",
      " >>>  8100\n",
      " >>>  8200\n",
      " >>>  8300\n",
      " >>>  8400\n",
      " >>>  8500\n",
      " >>>  8600\n",
      " >>>  8700\n",
      " >>>  8800\n",
      " >>>  8900\n",
      " >>>  9000\n",
      " >>>  9100\n",
      " >>>  9200\n",
      " >>>  9300\n",
      " >>>  9400\n",
      " >>>  9500\n"
     ]
    }
   ],
   "source": [
    "m = images[0][0].size\n",
    "\n",
    "for i in range(0, m):\n",
    "    img = images[0][0][i][0][0]\n",
    "    ids = img.split(\"_\")    \n",
    "    \n",
    "    x1,x2,y1,y2 = get_bound_box(i)\n",
    "    \n",
    "    attr = get_attributes(i)\n",
    "    attr = \",\".join(attr)\n",
    "    insert_image_attr(img, ids[0], attr)\n",
    "    insert_image_bound_boxes(img, x1, x2, y1, y2)\n",
    "    \n",
    "    if(i % 100 == 0):\n",
    "        print(\" >>> \", i)\n",
    "\n",
    "cnx.commit()"
   ]
  },
  {
   "cell_type": "code",
   "execution_count": 13,
   "metadata": {},
   "outputs": [],
   "source": [
    "cursor.close()\n",
    "cnx.close()"
   ]
  }
 ],
 "metadata": {
  "kernelspec": {
   "display_name": "Python [conda root]",
   "language": "python",
   "name": "conda-root-py"
  },
  "language_info": {
   "codemirror_mode": {
    "name": "ipython",
    "version": 3
   },
   "file_extension": ".py",
   "mimetype": "text/x-python",
   "name": "python",
   "nbconvert_exporter": "python",
   "pygments_lexer": "ipython3",
   "version": "3.5.3"
  }
 },
 "nbformat": 4,
 "nbformat_minor": 2
}
